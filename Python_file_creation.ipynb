{
 "cells": [
  {
   "cell_type": "code",
   "execution_count": 4,
   "metadata": {},
   "outputs": [],
   "source": [
    "import os\n",
    "init_path = os.path.join('app','__init__.py')"
   ]
  },
  {
   "cell_type": "code",
   "execution_count": 5,
   "metadata": {},
   "outputs": [
    {
     "name": "stdout",
     "output_type": "stream",
     "text": [
      "Writing app\\__init__.py\n"
     ]
    }
   ],
   "source": [
    "%%writefile $init_path\n",
    "\n",
    "from flask import Flask\n",
    "\n",
    "app=Flask(__name__)\n",
    "\n",
    "from app import routes"
   ]
  },
  {
   "cell_type": "code",
   "execution_count": 6,
   "metadata": {},
   "outputs": [],
   "source": [
    "import os\n",
    "route_path = os.path.join('app','routes.py')"
   ]
  },
  {
   "cell_type": "code",
   "execution_count": 26,
   "metadata": {},
   "outputs": [
    {
     "name": "stdout",
     "output_type": "stream",
     "text": [
      "Overwriting app\\routes.py\n"
     ]
    }
   ],
   "source": [
    "%%writefile $route_path\n",
    "\n",
    "from flask import render_template\n",
    "from app import app\n",
    "\n",
    "@app.route(\"/\")\n",
    "@app.route(\"/index\")\n",
    "\n",
    "\n",
    "def index():\n",
    "    user={'username':'Vikrant'}\n",
    "    posts=[\n",
    "        {\n",
    "            'author':{'username':'John'},\n",
    "            'body':'Beautiful day in Portland'\n",
    "        },\n",
    "        {\n",
    "            'author':{'username':'David'},\n",
    "            'body':'Movie was good'\n",
    "        }\n",
    "    ]\n",
    "    return render_template(\"index.html\",title='Home',user=user,posts=posts)\n"
   ]
  },
  {
   "cell_type": "code",
   "execution_count": 15,
   "metadata": {},
   "outputs": [
    {
     "name": "stdout",
     "output_type": "stream",
     "text": [
      "Overwriting microblog.py\n"
     ]
    }
   ],
   "source": [
    "%%writefile microblog.py\n",
    "\n",
    "from app import app\n",
    "\n",
    "if __name__=='__main__':\n",
    "    app.run()"
   ]
  },
  {
   "cell_type": "code",
   "execution_count": null,
   "metadata": {},
   "outputs": [],
   "source": []
  }
 ],
 "metadata": {
  "kernelspec": {
   "display_name": "Python 3",
   "language": "python",
   "name": "python3"
  },
  "language_info": {
   "codemirror_mode": {
    "name": "ipython",
    "version": 3
   },
   "file_extension": ".py",
   "mimetype": "text/x-python",
   "name": "python",
   "nbconvert_exporter": "python",
   "pygments_lexer": "ipython3",
   "version": "3.7.0"
  }
 },
 "nbformat": 4,
 "nbformat_minor": 2
}
