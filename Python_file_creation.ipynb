{
 "cells": [
  {
   "cell_type": "code",
   "execution_count": 18,
   "metadata": {},
   "outputs": [],
   "source": [
    "import os\n",
    "init_path = os.path.join('app','__init__.py')"
   ]
  },
  {
   "cell_type": "code",
   "execution_count": 23,
   "metadata": {},
   "outputs": [
    {
     "name": "stdout",
     "output_type": "stream",
     "text": [
      "Overwriting app\\__init__.py\n"
     ]
    }
   ],
   "source": [
    "%%writefile $init_path\n",
    "\n",
    "from flask import Flask\n",
    "from config import Config\n",
    "\n",
    "app=Flask(__name__)\n",
    "app.config.from_object(Config)\n",
    "\n",
    "from app import routes"
   ]
  },
  {
   "cell_type": "code",
   "execution_count": 9,
   "metadata": {},
   "outputs": [],
   "source": [
    "import os\n",
    "route_path = os.path.join('app','routes.py')"
   ]
  },
  {
   "cell_type": "code",
   "execution_count": 27,
   "metadata": {},
   "outputs": [
    {
     "name": "stdout",
     "output_type": "stream",
     "text": [
      "Overwriting app\\routes.py\n"
     ]
    }
   ],
   "source": [
    "%%writefile $route_path\n",
    "\n",
    "from flask import render_template,flash,redirect\n",
    "from app import app\n",
    "from app.forms import LoginForm\n",
    "\n",
    "@app.route(\"/\")\n",
    "@app.route(\"/index\")\n",
    "\n",
    "\n",
    "def index():\n",
    "    user={'username':'Vikrant'}\n",
    "    posts=[\n",
    "        {\n",
    "            'author':{'username':'John'},\n",
    "            'body':'Beautiful day in Portland'\n",
    "        },\n",
    "        {\n",
    "            'author':{'username':'David'},\n",
    "            'body':'Movie was good'\n",
    "        }\n",
    "    ]\n",
    "    return render_template(\"index.html\",title='Home',user=user,posts=posts)\n",
    "\n",
    "@app.route(\"/login\", methods=['GET','POST'])\n",
    "def login():\n",
    "    form=LoginForm()\n",
    "    if form.validate_on_submit():\n",
    "        flash('Login requested for user {},remember me {}'.format(form.username.data,form.rememberme.data))\n",
    "        return redirect('/index')\n",
    "        \n",
    "    return render_template(\"login.html\",form=form,title='Sign In')\n"
   ]
  },
  {
   "cell_type": "code",
   "execution_count": 15,
   "metadata": {},
   "outputs": [
    {
     "name": "stdout",
     "output_type": "stream",
     "text": [
      "Overwriting microblog.py\n"
     ]
    }
   ],
   "source": [
    "%%writefile microblog.py\n",
    "\n",
    "from app import app\n",
    "\n",
    "if __name__=='__main__':\n",
    "    app.run()"
   ]
  },
  {
   "cell_type": "code",
   "execution_count": 15,
   "metadata": {},
   "outputs": [],
   "source": [
    "import os\n",
    "config_path = os.path.join('app','config.py')"
   ]
  },
  {
   "cell_type": "code",
   "execution_count": 16,
   "metadata": {},
   "outputs": [
    {
     "name": "stdout",
     "output_type": "stream",
     "text": [
      "Overwriting app\\config.py\n"
     ]
    }
   ],
   "source": [
    "%%writefile $config_path\n",
    "\n",
    "import os\n",
    "\n",
    "class Config(object):\n",
    "    SECRET_KEY=os.environ.get('SECRET_KEY') or 'you will never guess'"
   ]
  },
  {
   "cell_type": "code",
   "execution_count": 6,
   "metadata": {},
   "outputs": [],
   "source": [
    "import os\n",
    "form_path = os.path.join('app','forms.py')"
   ]
  },
  {
   "cell_type": "code",
   "execution_count": 7,
   "metadata": {
    "scrolled": false
   },
   "outputs": [
    {
     "name": "stdout",
     "output_type": "stream",
     "text": [
      "Writing app\\forms.py\n"
     ]
    }
   ],
   "source": [
    "%%writefile $form_path\n",
    "from flask_wtf import FlaskForm\n",
    "from wtforms import StringField, PasswordField, BooleanField, SubmitField\n",
    "from wtforms.validators import DataRequired\n",
    "\n",
    "class LoginForm(FlaskForm):\n",
    "    username=StringField('Username', validators=[DataRequired()])\n",
    "    password=PasswordField('Password',validators=[DataRequired()])\n",
    "    rememberme=BooleanField('Remember me')\n",
    "    submit=SubmitField('Sign In')"
   ]
  }
 ],
 "metadata": {
  "kernelspec": {
   "display_name": "Python 3",
   "language": "python",
   "name": "python3"
  },
  "language_info": {
   "codemirror_mode": {
    "name": "ipython",
    "version": 3
   },
   "file_extension": ".py",
   "mimetype": "text/x-python",
   "name": "python",
   "nbconvert_exporter": "python",
   "pygments_lexer": "ipython3",
   "version": "3.7.0"
  }
 },
 "nbformat": 4,
 "nbformat_minor": 2
}
